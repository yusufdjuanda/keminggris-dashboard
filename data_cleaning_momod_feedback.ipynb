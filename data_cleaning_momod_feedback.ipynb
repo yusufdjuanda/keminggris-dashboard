{
 "cells": [
  {
   "cell_type": "code",
   "execution_count": 81,
   "id": "8dc45622",
   "metadata": {},
   "outputs": [],
   "source": [
    "import pandas as pd\n",
    "import re\n",
    "import unicodedata"
   ]
  },
  {
   "cell_type": "code",
   "execution_count": 82,
   "id": "cff10632",
   "metadata": {},
   "outputs": [],
   "source": [
    "\n",
    "\n",
    "def _ascii(s):\n",
    "    return unicodedata.normalize('NFKD', s).encode('ascii', 'ignore').decode('ascii')\n",
    "\n",
    "def _standardize_name(s):\n",
    "    s = _ascii(str(s))\n",
    "    s = s.lower()\n",
    "    s = re.sub(r'[\\r\\n]+', ' ', s)\n",
    "    s = re.sub(r'[^a-z0-9]+', '_', s)\n",
    "    s = re.sub(r'_+', '_', s).strip('_')\n",
    "    return s[:48]\n",
    "    \n",
    "def _map_short(norm: str) -> str:\n",
    "    n = (norm or \"\").strip().lower()\n",
    "\n",
    "    # Momod feedback mappings\n",
    "    if \"so_which_session_are_we_reviewing_now\" in n:\n",
    "        return \"session\"\n",
    "    if \"whats_the_date_of_the_session_being_reviewed\" in n or \"date_of_the_session\" in n:\n",
    "        return \"date\"\n",
    "    if \"according_to_momod_how_would_you_rate_the_hangou\" in n:\n",
    "        return \"overall\"\n",
    "    if \"can_you_share_why_you_gave_that_score\" in n:\n",
    "        return \"overall_reason\"\n",
    "    if \"who_were_the_participants_in_your_group\" in n:\n",
    "        return \"group_participants\"\n",
    "    if \"whats_your_rating_for_the_time_allocation_of_thi\" in n:\n",
    "        return \"time_allocation\"\n",
    "    if \"how_do_you_think_the_conversation_flow_was_durin\" in n:\n",
    "        return \"conversation_flow\"\n",
    "    if \"how_do_you_think_the_engagement_was_during_the_h\" in n:\n",
    "        return \"engagement\"\n",
    "    if \"could_you_explain_why_you_gave_the_above_rating_\" in n:\n",
    "        return \"ratings_reason\"\n",
    "    if \"any_concerns_that_needed_attention_in_the_hangou\" in n:\n",
    "        return \"concerns\"\n",
    "    if \"did_any_of_the_participants_in_your_hangout_grou\" in n:\n",
    "        return \"participant_concerns\"\n",
    "    if \"name_momod\" in n:\n",
    "        return \"moderator_name\"\n",
    "    if n == \"column_13\":\n",
    "        return \"extra\"\n",
    "\n",
    "    if n == \"timestamp\":\n",
    "        return \"timestamp\"\n",
    "    return norm\n",
    "\n",
    "\n",
    "def standardize_columns(df):\n",
    "    cols = []\n",
    "    for c in df.columns:\n",
    "        norm = _standardize_name(c)\n",
    "        short = _map_short(norm)\n",
    "        cols.append(short)\n",
    "    df = df.copy()\n",
    "    df.columns = cols\n",
    "    return df\n",
    "\n",
    "\n"
   ]
  },
  {
   "cell_type": "code",
   "execution_count": 83,
   "id": "999d571c",
   "metadata": {},
   "outputs": [],
   "source": [
    "file = \"/home/yusuf/keminggris/data/regular_sesh/MOMOD - Session Feedback 1.0 (Responses) - Form Responses 1.csv\"\n",
    "\n",
    "df = pd.read_csv(file)\n",
    "df = standardize_columns(df)\n",
    "df[\"timestamp\"] = pd.to_datetime(df[\"timestamp\"], errors=\"coerce\")\n",
    "df[\"date\"] = pd.to_datetime(df[\"date\"], errors=\"coerce\")\n",
    "\n",
    "# define the fixes\n",
    "fixes = {\n",
    "    pd.Timestamp(\"2025-09-07 00:08:02\"): pd.Timestamp(\"2025-09-06\"),  # 9/7/2025\n",
    "    pd.Timestamp(\"2025-09-08 06:54:43\"): pd.Timestamp(\"2025-09-06\"),  # 9/6/2025\n",
    "    pd.Timestamp(\"2025-10-05 00:36:49\"): pd.Timestamp(\"2025-10-04\"),  # 9/6/2025\n",
    "    pd.Timestamp(\"2025-10-11 07:45:55\"): pd.Timestamp(\"2025-10-04\"),  # 9/6/2025\n",
    "    pd.Timestamp(\"2025-10-11 22:05:27\"): pd.Timestamp(\"2025-10-04\"),  # 9/6/2025\n",
    "    pd.Timestamp(\"2025-10-19 00:34:46\"): pd.Timestamp(\"2025-10-18\"),  # 9/6/2025\n",
    "}\n",
    "\n",
    "# apply only where timestamp matches one of the keys\n",
    "mask = df[\"timestamp\"].isin(fixes)\n",
    "df.loc[mask, \"date\"] = df.loc[mask, \"timestamp\"].map(fixes)\n",
    "\n",
    "# (optional) keep a display string like your CSV\n",
    "df[\"date_str\"] = df[\"date\"].dt.strftime(\"%m/%d/%Y\")\n",
    "df[\"date_parsed\"] = pd.to_datetime(df.get(\"date\"), errors=\"coerce\")\n",
    "df[\"session_label\"] = df[\"date_parsed\"].dt.strftime(\"%A, %d %B %Y\")\n",
    "map_session = {\n",
    "    pd.Timestamp(\"2025-10-04\"): \"Regular Session\",\n",
    "}\n",
    "mask = df['date'].isin(map_session.keys())\n",
    "df.loc[mask, 'session'] = df.loc[mask, 'date'].map(map_session)\n",
    "# Numeric ratings\n",
    "for c in [\"overall\", \"time_allocation\", \"conversation_flow\", \"engagement\"]:\n",
    "    if c in df.columns:\n",
    "        df[c] = pd.to_numeric(df[c], errors=\"coerce\")\n",
    "# Session day/type\n",
    "def _session_type(s: str) -> str:\n",
    "    s = str(s or \"\")\n",
    "    if \"friday\" in s.lower():\n",
    "        return \"Friday\"\n",
    "    if \"regular\" in s.lower():\n",
    "        return \"Regular\"\n",
    "    return \"Other\"\n",
    "df[\"session_day\"] = df[\"session\"].apply(_session_type)\n",
    "# Basic cleaning\n",
    "df = df[df[\"timestamp\"].notna()].copy()\n",
    "\n",
    "\n",
    "df = df.drop(columns=['extra', 'participant_concerns'])\n"
   ]
  },
  {
   "cell_type": "code",
   "execution_count": 84,
   "id": "9a2a42f0",
   "metadata": {},
   "outputs": [],
   "source": [
    "df.to_csv('momod_feedback.csv')"
   ]
  },
  {
   "cell_type": "code",
   "execution_count": 85,
   "id": "7c0bda7e",
   "metadata": {},
   "outputs": [],
   "source": [
    "# df[['timestamp', 'date', 'session']]\n",
    "\n"
   ]
  },
  {
   "cell_type": "code",
   "execution_count": 86,
   "id": "fe028ee4",
   "metadata": {},
   "outputs": [
    {
     "data": {
      "text/plain": [
       "date\n",
       "2025-10-18    9\n",
       "2025-09-06    7\n",
       "2025-09-12    7\n",
       "2025-09-20    6\n",
       "2025-10-04    6\n",
       "Name: count, dtype: int64"
      ]
     },
     "execution_count": 86,
     "metadata": {},
     "output_type": "execute_result"
    }
   ],
   "source": [
    "df['date'].value_counts()"
   ]
  },
  {
   "cell_type": "code",
   "execution_count": 87,
   "id": "ce9d988b",
   "metadata": {},
   "outputs": [
    {
     "data": {
      "text/plain": [
       "Index(['timestamp', 'moderator_name', 'session', 'date', 'overall',\n",
       "       'overall_reason', 'group_participants', 'time_allocation',\n",
       "       'conversation_flow', 'engagement', 'ratings_reason', 'concerns',\n",
       "       'date_str', 'date_parsed', 'session_label', 'session_day'],\n",
       "      dtype='object')"
      ]
     },
     "execution_count": 87,
     "metadata": {},
     "output_type": "execute_result"
    }
   ],
   "source": [
    "df.columns"
   ]
  },
  {
   "cell_type": "code",
   "execution_count": null,
   "id": "ee86c471",
   "metadata": {},
   "outputs": [],
   "source": []
  },
  {
   "cell_type": "code",
   "execution_count": null,
   "id": "623c79d9",
   "metadata": {},
   "outputs": [],
   "source": []
  }
 ],
 "metadata": {
  "kernelspec": {
   "display_name": "streamlit",
   "language": "python",
   "name": "python3"
  },
  "language_info": {
   "codemirror_mode": {
    "name": "ipython",
    "version": 3
   },
   "file_extension": ".py",
   "mimetype": "text/x-python",
   "name": "python",
   "nbconvert_exporter": "python",
   "pygments_lexer": "ipython3",
   "version": "3.11.14"
  }
 },
 "nbformat": 4,
 "nbformat_minor": 5
}
